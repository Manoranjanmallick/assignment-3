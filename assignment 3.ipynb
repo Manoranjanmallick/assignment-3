{
 "cells": [
  {
   "cell_type": "code",
   "execution_count": 1,
   "id": "e4e800d5",
   "metadata": {},
   "outputs": [],
   "source": [
    "#1. Why are functions advantageous to have in your programs?\n",
    "# Its advantage is it leads to create new program in python. you can run the same program over and over."
   ]
  },
  {
   "cell_type": "code",
   "execution_count": 2,
   "id": "31c23858",
   "metadata": {},
   "outputs": [],
   "source": [
    "#2. When does the code in a function run: when it is specified or when it is called?\n",
    "# when it is called"
   ]
  },
  {
   "cell_type": "code",
   "execution_count": 3,
   "id": "0a0e9097",
   "metadata": {},
   "outputs": [],
   "source": [
    "#3. What statement creates a function?\n",
    "# def function_name(parameters):\n",
    "    # this statement creates a function"
   ]
  },
  {
   "cell_type": "code",
   "execution_count": 4,
   "id": "d7792832",
   "metadata": {},
   "outputs": [],
   "source": [
    "#4. What is the difference between a function and a function call?\n",
    "#function is used to create a new function but function call is used to perform a specific set of codes."
   ]
  },
  {
   "cell_type": "code",
   "execution_count": 5,
   "id": "a0c26e58",
   "metadata": {},
   "outputs": [],
   "source": [
    "#5. How many global scopes are there in a Python program? How many local scopes?\n",
    "# A Python program typically has one global scope, which exists throughout the entire program, and multiple local scopes, which are created when functions or blocks of code are executed."
   ]
  },
  {
   "cell_type": "code",
   "execution_count": 6,
   "id": "2f1bc5af",
   "metadata": {},
   "outputs": [],
   "source": [
    "#6. What happens to variables in a local scope when the function call returns?\n",
    "# When a function call returns in Python, the local variables defined within the function's scope cease to exist. \n",
    "#They are cleared from memory, and their values are no longer accessible."
   ]
  },
  {
   "cell_type": "code",
   "execution_count": 7,
   "id": "f2cd69d4",
   "metadata": {},
   "outputs": [],
   "source": [
    "#7. What is the concept of a return value? Is it possible to have a return value in an expression?\n",
    "# The concept of a return value in programming refers to the value that a function sends back to the caller once it has completed its execution.\n",
    "# Yes it is possible to have a return value in an expression."
   ]
  },
  {
   "cell_type": "code",
   "execution_count": 8,
   "id": "723fff13",
   "metadata": {},
   "outputs": [],
   "source": [
    "#8. If a function does not have a return statement, what is the return value of a call to that function?\n",
    "# If a function in Python does not have a return statement, the return value of a call to that function is \"None\"."
   ]
  },
  {
   "cell_type": "code",
   "execution_count": 10,
   "id": "db556635",
   "metadata": {},
   "outputs": [
    {
     "name": "stdout",
     "output_type": "stream",
     "text": [
      "10\n"
     ]
    }
   ],
   "source": [
    "#9. How do you make a function variable refer to the global variable?\n",
    "# To make a function variable refer to the global variable with the same name, you can use the global keyword in Python. The global keyword allows you to indicate that a variable should be treated as a global variable, even if there is a local variable with the same name within the function's scope.\n",
    "x = 10  # Global variable\n",
    "\n",
    "def print_global_x():\n",
    "    global x\n",
    "    print(x)  \n",
    "\n",
    "print_global_x()  \n"
   ]
  },
  {
   "cell_type": "code",
   "execution_count": 11,
   "id": "e531539b",
   "metadata": {},
   "outputs": [],
   "source": [
    "#10. What is the data type of None?\n",
    "#The data type of None in Python is NoneType. None is a special constant value that represents the absence or lack of a value.\n",
    "#It is often used to indicate the absence of a return value or to initialize a variable when no initial value is specified."
   ]
  },
  {
   "cell_type": "code",
   "execution_count": 12,
   "id": "5619bb90",
   "metadata": {},
   "outputs": [],
   "source": [
    "#11. What does the sentence import areallyourpetsnamederic do?\n",
    "# couldn't understand the question"
   ]
  },
  {
   "cell_type": "code",
   "execution_count": 13,
   "id": "cb1fea12",
   "metadata": {},
   "outputs": [],
   "source": [
    "#12. If you had a bacon() feature in a spam module, what would you call it after importing spam?\n",
    "# spam.bacon()"
   ]
  },
  {
   "cell_type": "code",
   "execution_count": 14,
   "id": "ecb43671",
   "metadata": {},
   "outputs": [],
   "source": [
    "#13. What can you do to save a programme from crashing if it encounters an error?\n",
    "# you can use exception handling"
   ]
  },
  {
   "cell_type": "code",
   "execution_count": 15,
   "id": "c31a33fb",
   "metadata": {},
   "outputs": [],
   "source": [
    "#14. What is the purpose of the try clause? What is the purpose of the except clause?\n",
    "# try: it is used to enclose a block of code that may raise an exception.\n",
    "# except: it is used to recover from exception handlig by providing specific responce."
   ]
  },
  {
   "cell_type": "code",
   "execution_count": null,
   "id": "4dd64503",
   "metadata": {},
   "outputs": [],
   "source": []
  }
 ],
 "metadata": {
  "kernelspec": {
   "display_name": "Python 3 (ipykernel)",
   "language": "python",
   "name": "python3"
  },
  "language_info": {
   "codemirror_mode": {
    "name": "ipython",
    "version": 3
   },
   "file_extension": ".py",
   "mimetype": "text/x-python",
   "name": "python",
   "nbconvert_exporter": "python",
   "pygments_lexer": "ipython3",
   "version": "3.9.13"
  }
 },
 "nbformat": 4,
 "nbformat_minor": 5
}
